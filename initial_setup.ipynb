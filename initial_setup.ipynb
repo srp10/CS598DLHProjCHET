{
  "nbformat": 4,
  "nbformat_minor": 0,
  "metadata": {
    "colab": {
      "provenance": []
    },
    "kernelspec": {
      "name": "python3",
      "display_name": "Python 3"
    },
    "language_info": {
      "name": "python"
    },
    "accelerator": "GPU",
    "gpuClass": "standard"
  },
  "cells": [
    {
      "cell_type": "code",
      "execution_count": 1,
      "metadata": {
        "colab": {
          "base_uri": "https://localhost:8080/"
        },
        "id": "KhGG-49LZH6u",
        "outputId": "b1e1f7db-4306-4191-9e40-4e70642c4a5d"
      },
      "outputs": [
        {
          "output_type": "stream",
          "name": "stdout",
          "text": [
            "Mounted at /content/drive\n"
          ]
        }
      ],
      "source": [
        "from google.colab import drive\n",
        "drive.mount('/content/drive')"
      ]
    },
    {
      "cell_type": "code",
      "source": [
        "!pwd"
      ],
      "metadata": {
        "colab": {
          "base_uri": "https://localhost:8080/"
        },
        "id": "M3ezQhm-CXRX",
        "outputId": "6e42c062-7c23-4ccc-d5bb-9254f361bee8"
      },
      "execution_count": 2,
      "outputs": [
        {
          "output_type": "stream",
          "name": "stdout",
          "text": [
            "/content\n"
          ]
        }
      ]
    },
    {
      "cell_type": "code",
      "source": [
        "!git clone https://github.com/LuChang-CS/Chet"
      ],
      "metadata": {
        "colab": {
          "base_uri": "https://localhost:8080/"
        },
        "id": "h37G00gYCqWR",
        "outputId": "b3f6456b-7b76-48f3-b595-bcf49e3fc641"
      },
      "execution_count": 3,
      "outputs": [
        {
          "output_type": "stream",
          "name": "stdout",
          "text": [
            "Cloning into 'Chet'...\n",
            "remote: Enumerating objects: 22, done.\u001b[K\n",
            "remote: Total 22 (delta 0), reused 0 (delta 0), pack-reused 22\u001b[K\n",
            "Unpacking objects: 100% (22/22), 15.70 KiB | 2.24 MiB/s, done.\n"
          ]
        }
      ]
    },
    {
      "cell_type": "code",
      "source": [
        "mkdir -p /content/Chet/data/mimic3/raw/"
      ],
      "metadata": {
        "id": "W-i4V60vDrpR"
      },
      "execution_count": 5,
      "outputs": []
    },
    {
      "cell_type": "code",
      "source": [
        "mkdir -p /content/Chet/data/mimic4/raw/"
      ],
      "metadata": {
        "id": "6Hh8atfrEOSb"
      },
      "execution_count": 6,
      "outputs": []
    },
    {
      "cell_type": "code",
      "source": [
        "!cp /content/drive/MyDrive/physionet.org/files/mimiciii/1.4/ADMISSIONS.csv /content/drive/MyDrive/physionet.org/files/mimiciii/1.4/DIAGNOSES_ICD.csv /content/Chet/data/mimic3/raw/"
      ],
      "metadata": {
        "id": "5il0U52UC3pk"
      },
      "execution_count": 7,
      "outputs": []
    },
    {
      "cell_type": "code",
      "source": [
        "!cp /content/drive/MyDrive/physionet.org/files/mimiciv/2.2/hosp/admissions.csv /content/drive/MyDrive/physionet.org/files/mimiciv/2.2/hosp/diagnoses_icd.csv /content/drive/MyDrive/physionet.org/files/mimiciv/2.2/hosp/patients.csv /content/Chet/data/mimic4/raw/"
      ],
      "metadata": {
        "id": "GyUdn6CWEgnn"
      },
      "execution_count": 9,
      "outputs": []
    },
    {
      "cell_type": "code",
      "source": [
        "%pwd"
      ],
      "metadata": {
        "colab": {
          "base_uri": "https://localhost:8080/",
          "height": 36
        },
        "id": "CqjfY3nfTybK",
        "outputId": "1eb3b3ea-2511-423d-f53b-a0ae323b608d"
      },
      "execution_count": 8,
      "outputs": [
        {
          "output_type": "execute_result",
          "data": {
            "text/plain": [
              "'/content'"
            ],
            "application/vnd.google.colaboratory.intrinsic+json": {
              "type": "string"
            }
          },
          "metadata": {},
          "execution_count": 8
        }
      ]
    },
    {
      "cell_type": "code",
      "source": [
        "%cd /content/Chet"
      ],
      "metadata": {
        "colab": {
          "base_uri": "https://localhost:8080/"
        },
        "id": "0tdVucXEVAcT",
        "outputId": "33c5ded2-44aa-4a37-a2a1-7e240910509b"
      },
      "execution_count": 10,
      "outputs": [
        {
          "output_type": "stream",
          "name": "stdout",
          "text": [
            "/content/Chet\n"
          ]
        }
      ]
    },
    {
      "cell_type": "code",
      "source": [
        "%pwd"
      ],
      "metadata": {
        "colab": {
          "base_uri": "https://localhost:8080/",
          "height": 36
        },
        "id": "-8Jc6uYgVBzX",
        "outputId": "e2a2e270-46a5-4c9a-dc0a-97613b3a35b7"
      },
      "execution_count": 11,
      "outputs": [
        {
          "output_type": "execute_result",
          "data": {
            "text/plain": [
              "'/content/Chet'"
            ],
            "application/vnd.google.colaboratory.intrinsic+json": {
              "type": "string"
            }
          },
          "metadata": {},
          "execution_count": 11
        }
      ]
    },
    {
      "cell_type": "code",
      "source": [
        "!pip install -r requirements.txt"
      ],
      "metadata": {
        "colab": {
          "base_uri": "https://localhost:8080/"
        },
        "id": "rEu0ZDSWd_0Q",
        "outputId": "690b67de-5810-4640-a3d4-4e8f137b52cd"
      },
      "execution_count": 12,
      "outputs": [
        {
          "output_type": "stream",
          "name": "stdout",
          "text": [
            "Looking in indexes: https://pypi.org/simple, https://us-python.pkg.dev/colab-wheels/public/simple/\n",
            "Requirement already satisfied: joblib in /usr/local/lib/python3.9/dist-packages (from -r requirements.txt (line 1)) (1.1.1)\n",
            "Requirement already satisfied: numpy in /usr/local/lib/python3.9/dist-packages (from -r requirements.txt (line 2)) (1.22.4)\n",
            "Requirement already satisfied: pandas in /usr/local/lib/python3.9/dist-packages (from -r requirements.txt (line 3)) (1.4.4)\n",
            "Requirement already satisfied: Pillow in /usr/local/lib/python3.9/dist-packages (from -r requirements.txt (line 4)) (8.4.0)\n",
            "Requirement already satisfied: python-dateutil in /usr/local/lib/python3.9/dist-packages (from -r requirements.txt (line 5)) (2.8.2)\n",
            "Requirement already satisfied: pytz in /usr/local/lib/python3.9/dist-packages (from -r requirements.txt (line 6)) (2022.7.1)\n",
            "Requirement already satisfied: scikit-learn in /usr/local/lib/python3.9/dist-packages (from -r requirements.txt (line 7)) (1.2.2)\n",
            "Requirement already satisfied: scipy in /usr/local/lib/python3.9/dist-packages (from -r requirements.txt (line 8)) (1.10.1)\n",
            "Requirement already satisfied: six in /usr/local/lib/python3.9/dist-packages (from -r requirements.txt (line 9)) (1.16.0)\n",
            "Requirement already satisfied: threadpoolctl in /usr/local/lib/python3.9/dist-packages (from -r requirements.txt (line 10)) (3.1.0)\n",
            "Requirement already satisfied: torchaudio in /usr/local/lib/python3.9/dist-packages (from -r requirements.txt (line 11)) (2.0.1+cu118)\n",
            "Requirement already satisfied: torchvision in /usr/local/lib/python3.9/dist-packages (from -r requirements.txt (line 13)) (0.15.1+cu118)\n",
            "Requirement already satisfied: typing-extensions in /usr/local/lib/python3.9/dist-packages (from -r requirements.txt (line 14)) (4.5.0)\n",
            "Requirement already satisfied: torch==2.0.0 in /usr/local/lib/python3.9/dist-packages (from torchaudio->-r requirements.txt (line 11)) (2.0.0+cu118)\n",
            "Requirement already satisfied: filelock in /usr/local/lib/python3.9/dist-packages (from torch==2.0.0->torchaudio->-r requirements.txt (line 11)) (3.10.7)\n",
            "Requirement already satisfied: networkx in /usr/local/lib/python3.9/dist-packages (from torch==2.0.0->torchaudio->-r requirements.txt (line 11)) (3.0)\n",
            "Requirement already satisfied: jinja2 in /usr/local/lib/python3.9/dist-packages (from torch==2.0.0->torchaudio->-r requirements.txt (line 11)) (3.1.2)\n",
            "Requirement already satisfied: triton==2.0.0 in /usr/local/lib/python3.9/dist-packages (from torch==2.0.0->torchaudio->-r requirements.txt (line 11)) (2.0.0)\n",
            "Requirement already satisfied: sympy in /usr/local/lib/python3.9/dist-packages (from torch==2.0.0->torchaudio->-r requirements.txt (line 11)) (1.11.1)\n",
            "Requirement already satisfied: cmake in /usr/local/lib/python3.9/dist-packages (from triton==2.0.0->torch==2.0.0->torchaudio->-r requirements.txt (line 11)) (3.25.2)\n",
            "Requirement already satisfied: lit in /usr/local/lib/python3.9/dist-packages (from triton==2.0.0->torch==2.0.0->torchaudio->-r requirements.txt (line 11)) (16.0.0)\n",
            "Requirement already satisfied: requests in /usr/local/lib/python3.9/dist-packages (from torchvision->-r requirements.txt (line 13)) (2.27.1)\n",
            "Requirement already satisfied: charset-normalizer~=2.0.0 in /usr/local/lib/python3.9/dist-packages (from requests->torchvision->-r requirements.txt (line 13)) (2.0.12)\n",
            "Requirement already satisfied: certifi>=2017.4.17 in /usr/local/lib/python3.9/dist-packages (from requests->torchvision->-r requirements.txt (line 13)) (2022.12.7)\n",
            "Requirement already satisfied: idna<4,>=2.5 in /usr/local/lib/python3.9/dist-packages (from requests->torchvision->-r requirements.txt (line 13)) (3.4)\n",
            "Requirement already satisfied: urllib3<1.27,>=1.21.1 in /usr/local/lib/python3.9/dist-packages (from requests->torchvision->-r requirements.txt (line 13)) (1.26.15)\n",
            "Requirement already satisfied: MarkupSafe>=2.0 in /usr/local/lib/python3.9/dist-packages (from jinja2->torch==2.0.0->torchaudio->-r requirements.txt (line 11)) (2.1.2)\n",
            "Requirement already satisfied: mpmath>=0.19 in /usr/local/lib/python3.9/dist-packages (from sympy->torch==2.0.0->torchaudio->-r requirements.txt (line 11)) (1.3.0)\n"
          ]
        }
      ]
    },
    {
      "cell_type": "code",
      "source": [
        "!python run_preprocess.py"
      ],
      "metadata": {
        "colab": {
          "base_uri": "https://localhost:8080/"
        },
        "id": "ch7dAUptZ4f8",
        "outputId": "661caebc-e5f3-4d12-8bd4-8121e3cb338b"
      },
      "execution_count": 14,
      "outputs": [
        {
          "output_type": "stream",
          "name": "stdout",
          "text": [
            "parsing the csv file of admission ...\n",
            "\t58976 in 58976 rows\n",
            "parsing csv file of diagnosis ...\n",
            "\t651047 in 651047 rows\n",
            "calibrating patients by admission ...\n",
            "calibrating admission by patients ...\n",
            "saving parsed data ...\n",
            "patient num: 7493\n",
            "max admission num: 42\n",
            "mean admission num: 2.66\n",
            "max code num in an admission: 39\n",
            "mean code num in an admission: 13.06\n",
            "encoding code ...\n",
            "There are 4880 codes\n",
            "generating code levels ...\n",
            "\t100%\n",
            "There are 6000 train, 493 valid, 1000 test samples\n",
            "generating code code adjacent matrix ...\n",
            "\t6000 / 6000\n",
            "building train codes features and labels ...\n",
            "\t6000 / 6000\n",
            "building valid codes features and labels ...\n",
            "\t493 / 493\n",
            "building test codes features and labels ...\n",
            "\t1000 / 1000\n",
            "generating train neighbors ...\n",
            "\t6000 / 6000\n",
            "generating valid neighbors ...\n",
            "\t493 / 493\n",
            "generating test neighbors ...\n",
            "\t1000 / 1000\n",
            "generating train middles ...\n",
            "\t6000 / 6000\n",
            "generating valid middles ...\n",
            "\t493 / 493\n",
            "generating test middles ...\n",
            "\t1000 / 1000\n",
            "building train heart failure labels ...\n",
            "building valid heart failure labels ...\n",
            "building test heart failure labels ...\n",
            "saving encoded data ...\n",
            "saving standard data ...\n",
            "\tsaving training data\n",
            "\tsaving valid data\n",
            "\tsaving test data\n"
          ]
        }
      ]
    },
    {
      "cell_type": "code",
      "source": [
        "!python train.py"
      ],
      "metadata": {
        "colab": {
          "base_uri": "https://localhost:8080/"
        },
        "id": "6ynWxwjDcZly",
        "outputId": "f70f1fb7-df6a-42e9-f275-7270908085a7"
      },
      "execution_count": null,
      "outputs": [
        {
          "output_type": "stream",
          "name": "stdout",
          "text": [
            "loading train data ...\n",
            "loading valid data ...\n",
            "loading test data ...\n",
            "721085\n",
            "Epoch 1 / 200:\n",
            "    Step 188 / 188, time cost: 1m31.3s, loss: 0.4828\n",
            "    Evaluation: loss: 0.4831 --- auc: 0.8317 --- f1_score: 0.7297\n",
            "Epoch 2 / 200:\n",
            "    Step 188 / 188, time cost: 1m29.1s, loss: 0.4078\n",
            "    Evaluation: loss: 0.4747 --- auc: 0.8434 --- f1_score: 0.7288\n",
            "Epoch 3 / 200:\n",
            "    Step 188 / 188, time cost: 1m28.7s, loss: 0.3839\n",
            "    Evaluation: loss: 0.4747 --- auc: 0.8439 --- f1_score: 0.7322\n",
            "Epoch 4 / 200:\n",
            "    Step 174 / 188, remaining time: 6.8s, loss: 0.3814"
          ]
        }
      ]
    }
  ]
}